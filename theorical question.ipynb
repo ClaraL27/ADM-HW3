{
 "cells": [
  {
   "cell_type": "markdown",
   "metadata": {},
   "source": [
    "# 5. Algorithmic question"
   ]
  },
  {
   "cell_type": "markdown",
   "metadata": {},
   "source": [
    "### Write an algorithm that computes the acceptable solution with the longest possible duration.\n",
    "\n",
    "<code>\n",
    "seq = the sequence of request\n",
    "query = the list of requests\n",
    "query_index = empty list\n",
    "    \n",
    "for time in query:\n",
    "    query_index.append(seq.index(time))          #we write the position of each element of the query in the sequence \n",
    "    \n",
    "for i in range(length(query_index - 2):          \n",
    "    if query_index[i] +2 == query_index[i+1] +1 == query_index[i+2]:      #we check the truples\n",
    "          remove min{query[i]+query[i+2], query[i+1]}\n",
    "    \n",
    "for i in range(length(query_index - 1):\n",
    "    if query_index[i]+1 == query_index[i+1]:      #we check couples \n",
    "          remove min{query[i], query[i+1]}\n",
    "    \n",
    "print the results and the total duration\n",
    "<code>"
   ]
  },
  {
   "cell_type": "markdown",
   "metadata": {},
   "source": [
    "For the query we check if there are truples of consecutives indeces we update the query taking only the maximum between $query[i]+query[i+2]$ and $query[i+1]$. However, this process might return a solution with consecutive requests, but the max number of consecutive requests is two; in fact after this process we check if there are consecutive couples and we update the query taking only the maximum between the two.\n",
    "\n"
   ]
  },
  {
   "cell_type": "markdown",
   "metadata": {},
   "source": [
    "### Implement a program that given in input an instance in the form given above, gives the optimal solution."
   ]
  },
  {
   "cell_type": "code",
   "execution_count": 1,
   "metadata": {},
   "outputs": [],
   "source": [
    "def MyAlg(seq,query):\n",
    "    query_index=[]\n",
    "    copia = query.copy()\n",
    "    seq2 = seq.copy()\n",
    "    for time in query:\n",
    "        try:\n",
    "            query_index.append(seq.index(time))\n",
    "            seq[seq.index(time)]=0\n",
    "        except:\n",
    "            print('not valid query')\n",
    "            return\n",
    "    for i in range(len(query)-2):\n",
    "        if (query_index[i] +2 == query_index[i+1] +1) and (query_index[i+1] +1 == query_index[i+2]):\n",
    "            if copia[i+1]>copia[i]+copia[i+2]:\n",
    "                query[i] = 0\n",
    "                query[i+2] = 0\n",
    "                query[i+1] = copia[i+1]\n",
    "        \n",
    "            else:\n",
    "                query[i+1] = 0\n",
    "                query[i] = copia[i]\n",
    "                query[i+2] = copia[i+2]\n",
    "    query=list(filter(lambda a: a != 0, query))\n",
    "    query_index = []\n",
    "    for time in query:\n",
    "        query_index.append(seq2.index(time))\n",
    "        seq2[seq2.index(time)]=0\n",
    "    \n",
    "    for i in range(len(query)-1):\n",
    "        if query_index[i] + 1 == query_index[i + 1]:\n",
    "            if query[i]>query[i+1]:\n",
    "                query[i+1]=0\n",
    "            else:\n",
    "                query[i]=0\n",
    "    \n",
    "    query=list(filter(lambda a: a != 0, query))\n",
    "\n",
    "    print(f\"The optimal solution is: {query}\")\n",
    "    print(f\"The duration is: {sum(query)}\")\n",
    "  \n",
    "    \n"
   ]
  },
  {
   "cell_type": "code",
   "execution_count": 4,
   "metadata": {},
   "outputs": [
    {
     "name": "stdout",
     "output_type": "stream",
     "text": [
      "The optimal solution is: [40, 50, 30, 20]\n",
      "The duration is: 140\n"
     ]
    }
   ],
   "source": [
    "seq=[30, 40, 25, 50, 30, 20]\n",
    "query=[40, 25, 50, 30, 20]\n",
    "MyAlg(seq,query)\n"
   ]
  },
  {
   "cell_type": "markdown",
   "metadata": {},
   "source": [
    "We added a try/except to avoid an overlap of appointments as shown in the following example:"
   ]
  },
  {
   "cell_type": "code",
   "execution_count": 85,
   "metadata": {},
   "outputs": [
    {
     "name": "stdout",
     "output_type": "stream",
     "text": [
      "not valid query\n"
     ]
    }
   ],
   "source": [
    "seq=[30, 40, 25, 50, 30, 20]\n",
    "query=[30, 40, 50, 50]\n",
    "MyAlg(seq,query)"
   ]
  }
 ],
 "metadata": {
  "kernelspec": {
   "display_name": "Python 3",
   "language": "python",
   "name": "python3"
  },
  "language_info": {
   "codemirror_mode": {
    "name": "ipython",
    "version": 3
   },
   "file_extension": ".py",
   "mimetype": "text/x-python",
   "name": "python",
   "nbconvert_exporter": "python",
   "pygments_lexer": "ipython3",
   "version": "3.8.5"
  }
 },
 "nbformat": 4,
 "nbformat_minor": 4
}
