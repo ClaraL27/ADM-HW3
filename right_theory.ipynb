{
 "cells": [
  {
   "cell_type": "markdown",
   "metadata": {},
   "source": [
    "# 5. Algorithmic question"
   ]
  },
  {
   "cell_type": "markdown",
   "metadata": {},
   "source": [
    "### Write an algorithm that computes the acceptable solution with the longest possible duration.\n",
    "\n",
    "\n",
    "**MyAlg**\n",
    "\n",
    "<code>\n",
    "seq = the sequence of request\n",
    "\n",
    "query = the list of requests\n",
    "\n",
    "query_index = empty list\n",
    "    \n",
    "for time in query:\n",
    "\n",
    "    query_index.append(seq.index(time))          \n",
    "\n",
    "new_query=[0 for i in seq]\n",
    "\n",
    "for i in query_index: \n",
    "\n",
    "    new_query[i] = seq[i]   \n",
    "    \n",
    "max_sum_nonadjacent_elements(new_query) "
   ]
  },
  {
   "cell_type": "markdown",
   "metadata": {},
   "source": [
    "- In the first for we write the position of each element of the query in the sequence.\n",
    "- Then, we define a new vector with length equal to the length of the sequence, where the elements of the query take position according to query_index, and the other values are 0\n",
    "- we call the function \"max_sum_nonadjacent_elements(new_query)\" while keeping track of the elements we are summing"
   ]
  },
  {
   "cell_type": "markdown",
   "metadata": {},
   "source": [
    "**Max sum non-adjacent element(A)**\n",
    "    \n",
    "<code>\n",
    "incl_sum = A[0]\n",
    "\n",
    "excl_sum = 0\n",
    "    \n",
    "for i = 1 to length(A):\n",
    "\n",
    "    max_sum = max(incl_sum, excl_sum)\n",
    "\n",
    "    incl_sum = excl_sum + A[i]\n",
    "\n",
    "    excl_sum = max_sum\n",
    " \n",
    "max_sum = max(incl_sum, excl_sum)\n",
    "\n",
    "return max_sum\n",
    "    "
   ]
  },
  {
   "cell_type": "markdown",
   "metadata": {},
   "source": [
    "- We take two variables incl_sum and excl_sum and we itialize incl_sum equal to the first element and excl_sum as zero;\n",
    "- For each element find the maximum of incl_sum and excl_sum;\n",
    "- Incl_sum will be equal to excl_sum at the previous step plus the current element;\n",
    "- excl_sum will be the maximum between excl_sum and incl_sum at the previous step;\n",
    "- After all the steps, we will take the maximum between incl_sum and excl_sum as result."
   ]
  },
  {
   "cell_type": "markdown",
   "metadata": {},
   "source": [
    "### Implement a program that given in input an instance in the form given above, gives the optimal solution."
   ]
  },
  {
   "cell_type": "code",
   "execution_count": 7,
   "metadata": {},
   "outputs": [],
   "source": [
    "def MyAlg(seq,query):\n",
    "    \n",
    "    query_index=[]\n",
    "    seq1=seq.copy()\n",
    "    \n",
    "    for time in query:\n",
    "        try:\n",
    "            query_index.append(seq.index(time))\n",
    "            seq[seq.index(time)]=0\n",
    "        except:\n",
    "            print('not valid query')\n",
    "            return\n",
    "        \n",
    "    new_query=[0 for i in seq]\n",
    "    \n",
    "    # creating new_query as explained before\n",
    "    for i in query_index:\n",
    "        new_query[i] = seq1[i]\n",
    "    \n",
    "    # using max_sum_nonadjacent_elements(new_query)\n",
    "    incl_sum = new_query[0]\n",
    "    excl_sum = 0\n",
    "    ind1 = [0]             # indeces of the inclusive sum\n",
    "    ind2 = []              # indeces of the exclusive sum\n",
    "    indm = ind1[:]         # indeces of max sum\n",
    "    max_sum = incl_sum\n",
    "    \n",
    "    for i in range(1, len(new_query)):\n",
    "        incl_sum = excl_sum + new_query[i]\n",
    "        ind2.append(i)\n",
    "        excl_sum = max_sum\n",
    "        ind1 = indm[:]\n",
    "        if incl_sum > excl_sum:\n",
    "            max_sum = incl_sum\n",
    "            indm = ind2[:]\n",
    "            ind2 = ind1 [:]\n",
    "        else:\n",
    "            max_sum = excl_sum\n",
    "            indm = ind1[:]\n",
    "            ind2 = ind1[:]\n",
    "            \n",
    "    query_opt = []\n",
    "    \n",
    "    for i in indm:\n",
    "        query_opt.append(new_query[i])\n",
    "\n",
    "    print(f\"The optimal solution is: {query_opt}\")\n",
    "    print(f\"The duration is: {max_sum}\")"
   ]
  },
  {
   "cell_type": "code",
   "execution_count": 8,
   "metadata": {},
   "outputs": [
    {
     "name": "stdout",
     "output_type": "stream",
     "text": [
      "The optimal solution is: [30, 25, 30]\n",
      "The duration is: 85\n"
     ]
    }
   ],
   "source": [
    "seq=[30, 40, 25, 50, 30, 20]\n",
    "query=[30, 40, 25, 30]\n",
    "MyAlg(seq,query)"
   ]
  },
  {
   "cell_type": "markdown",
   "metadata": {},
   "source": [
    "We added a try/except to avoid an overlap of appointments as shown in the following example:"
   ]
  },
  {
   "cell_type": "code",
   "execution_count": 9,
   "metadata": {},
   "outputs": [
    {
     "name": "stdout",
     "output_type": "stream",
     "text": [
      "not valid query\n"
     ]
    }
   ],
   "source": [
    "seq = [30, 40, 25, 50, 30, 20]\n",
    "query = [30, 40, 25, 50, 30, 20, 20]\n",
    "MyAlg(seq,query)"
   ]
  }
 ],
 "metadata": {
  "kernelspec": {
   "display_name": "Python 3",
   "language": "python",
   "name": "python3"
  },
  "language_info": {
   "codemirror_mode": {
    "name": "ipython",
    "version": 3
   },
   "file_extension": ".py",
   "mimetype": "text/x-python",
   "name": "python",
   "nbconvert_exporter": "python",
   "pygments_lexer": "ipython3",
   "version": "3.8.5"
  }
 },
 "nbformat": 4,
 "nbformat_minor": 4
}
