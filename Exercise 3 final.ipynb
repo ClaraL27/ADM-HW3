{
 "cells": [
  {
   "cell_type": "code",
   "execution_count": 1,
   "metadata": {},
   "outputs": [],
   "source": [
    "from bs4 import BeautifulSoup\n",
    "from tqdm import tqdm\n",
    "import requests\n",
    "import os\n",
    "import re\n",
    "from datetime import datetime\n",
    "import nltk\n",
    "from nltk.stem import PorterStemmer\n",
    "import csv\n",
    "import json\n",
    "import pandas as pd\n",
    "import numpy as np\n",
    "import heapq\n",
    "from dateutil import parser"
   ]
  },
  {
   "cell_type": "markdown",
   "metadata": {},
   "source": [
    "We define the new score as:\n",
    "\\begin{equation}\n",
    "score={\\sum_{j∈columns}(score_j)}\n",
    "\\end{equation}\n",
    "where $columns={animeTitle, animeType, ..., animeStaff}$"
   ]
  },
  {
   "cell_type": "markdown",
   "metadata": {},
   "source": [
    "We compute the scores in this way:\n",
    "- the title score: $score_t={\\sum_{i∈query}\\frac{2*n_i}{len(title)+len(query)}}$, where $n_i$ is the number of occurences of $word_i$ of the query in the title. We are considering how many times the query word appears in the title, normalizing by the sum of query length and the title lenght. We decided to multiply the numerator by two in order to try to give greater importance of similarity to the queries with a word that appeared in the title. \n",
    "- the type score: $score_p={\\sum_{i∈query}\\frac{n_i}{2}}$, where $n_i$ is different from zero, if in the query is specified the anime type, in that case we consider as score: $n_i$ divided by two to not give much importance to the score type.\n",
    "- score_episode, score_members, score_animeScore, score_users, score_rank, score_popularity are computed such that their sum is equal to one; we give much importance if the query match with score_animeScore and with score_rank, score_episode. The others are less significant in the similarity in our opinion, so we did not give them much weight.\n",
    "- the description score: $score_d={\\sum_{i∈query}\\frac{2*d_i}{len(description)+len(query)}}$, where $d_i$ is the occurences of the $word_i$ of the query in the description. We compute this score with the same rules of the title_score.\n",
    "- the releaseDate_score and endDate_score: we consider these scores equal to 0.5 if in the query appears an year that coincides with the releasedate or enddate year. We compute these scores taking into account only the year because we think the user is more likely to do a search by remembering only the releasedate or enddate year rather than the exact date with day and month.\n",
    "- the score_staff, score_characters, score_voice: we compute these scores adding 0.5 every time a name in the query appears in the list of strings. We decided to add 0.5 because in this way, if the users only enter the name or the surname of the character/staff/voice the relative score will be 0.5, instead if the users enters both the name and the surname the relative score is equal to 1 (as the similarity is more precise)."
   ]
  },
  {
   "cell_type": "code",
   "execution_count": 2,
   "metadata": {},
   "outputs": [],
   "source": [
    "def text_mining_score(string):\n",
    "    # gather all the stopwords\n",
    "    stop_words = set(nltk.corpus.stopwords.words('english'))\n",
    "    # tokenization\n",
    "    tokens = nltk.word_tokenize(string.lower())\n",
    "    # remove punctuations and numbers and then word stemming\n",
    "    res_tok = [PorterStemmer().stem(word) for word in tokens if  word not in stop_words]\n",
    "    return res_tok"
   ]
  },
  {
   "cell_type": "code",
   "execution_count": 3,
   "metadata": {
    "scrolled": true
   },
   "outputs": [
    {
     "name": "stdout",
     "output_type": "stream",
     "text": [
      "insert the query: \n",
      "gintama enchousen Youichi 2018 64\n",
      "insert k: \n",
      "5\n"
     ]
    }
   ],
   "source": [
    "print(\"insert the query: \")\n",
    "query = input()\n",
    "print(\"insert k: \")\n",
    "k = int(input())\n",
    "assert len(query) > 0, \"The query is empty!!\""
   ]
  },
  {
   "cell_type": "code",
   "execution_count": 4,
   "metadata": {},
   "outputs": [],
   "source": [
    "def new_score(query):\n",
    "    \n",
    "    #formatting the query\n",
    "    query = text_mining_score(query)\n",
    "    \n",
    "    score_dict = dict()\n",
    "    heap = list()\n",
    "    heapq.heapify(heap)\n",
    "\n",
    "    for i in tqdm(range(1, 384)):\n",
    "        path = f'pages_tsv/pages_tsv/page_{i}/'\n",
    "\n",
    "        for file in os.listdir(path):\n",
    "            tsv_file = open(path+file, 'r', encoding='utf-8')\n",
    "            document_id = 'document_' + (''.join(re.findall(r'\\d+', file)))\n",
    "            anime = csv.DictReader(tsv_file, delimiter='\\t')\n",
    "            anime = anime.__next__()\n",
    "            \n",
    "            #considering all the columns of the anime link\n",
    "            title = text_mining_score(anime['animeTitle'])\n",
    "            typ = text_mining_score(anime['animeType'])\n",
    "            num_episode = anime['animeNumEpisode']\n",
    "            releaseDate = anime['releaseDate']\n",
    "            endDate = anime['endDate']\n",
    "            animeNumMembers = anime['animeNumMembers']\n",
    "            animeScore = anime['animeScore']\n",
    "            animeUsers = anime['animeUsers']\n",
    "            animeRank = anime['animeRank']\n",
    "            animePopularity = anime['animePopularity']\n",
    "            descr = text_mining_score(anime['animeDescription'])\n",
    "            animeRelated = anime['animeRelated']\n",
    "            animeCharacters = anime['animeCharacters']\n",
    "            animeVoices = anime['animeVoices']\n",
    "            animeStaff = anime['animeStaff']\n",
    "            \n",
    "            #initializing to 0 every score column\n",
    "            score_title, score_type, score_description, score_staff, score_characters, score_voice, score_releaseDate, score_endDate = 0, 0, 0, 0, 0, 0, 0, 0\n",
    "            score_episode, score_members, score_animeScore, score_users, score_rank, score_popularity = 0, 0, 0, 0, 0, 0\n",
    "            \n",
    "            # define the score column for each document\n",
    "            for word in query:\n",
    "                if word.isnumeric():\n",
    "                    if word == num_episode:\n",
    "                        score_episode += 0.2\n",
    "                    if word == animeNumMembers:\n",
    "                        score_members += 0.05\n",
    "                    if word == animeUsers:\n",
    "                        score_users += 0.05\n",
    "                    if word == animeRank:\n",
    "                        score_rank += 0.2\n",
    "                    if word == animePopularity:\n",
    "                        score_popularity += 0.1\n",
    "                    if releaseDate!=\"\" and word == str((parser.parse(releaseDate)).year):\n",
    "                        score_releaseDate += 0.5\n",
    "                    if endDate!=\"\" and word == str((parser.parse(endDate)).year) :\n",
    "                        score_endDate += 0.5\n",
    "                else:\n",
    "                    score_title += (title.count(word)*2)/(len(title) + len(query))\n",
    "                    score_type += typ.count(word)/2\n",
    "                    score_description += (descr.count(word)*2)/(len(descr) + len(query))\n",
    "                    if word == animeScore:\n",
    "                        score_animeScore += 0.4\n",
    "                    for character in animeCharacters.split(\",\"):\n",
    "                        character = character.replace(\"[\",\"\").replace(\"]\", \"\").replace(\" ' \", \"\").replace(\"'\", \"\")\n",
    "                        character = text_mining_score(character)\n",
    "                        if character == word.split():\n",
    "                            score_characters += 0.5\n",
    "                    for voice in animeVoices.split(\",\"):\n",
    "                        voice = voice.replace(\"[\",\"\").replace(\"]\", \"\").replace(\" ' \", \"\").replace(\"'\", \"\")\n",
    "                        voice = text_mining_score(voice)\n",
    "                        if voice == word.split():\n",
    "                            score_voice += 0.5\n",
    "                    for member in animeStaff.split(\",\"):\n",
    "                        member = member.replace(\"[\",\"\").replace(\"]\", \"\").replace(\" ' \", \"\").replace(\"'\", \"\")\n",
    "                        member = text_mining_score(member)\n",
    "                        if member == word.split():\n",
    "                            score_staff += 0.5\n",
    "\n",
    "\n",
    "            score = score_title + score_type + score_episode + score_members + score_animeScore + score_users + score_rank + score_popularity + score_description + score_staff + score_characters + score_voice\n",
    "            \n",
    "            #adding to the score_dict the corresponding score for every document\n",
    "            score_dict[document_id] = score\n",
    "            heapq.heappush(heap, score)\n",
    "    \n",
    "    #saving in a json file the score_dict and the heap list\n",
    "    file_score_dict = open(\"score_dict.json\", \"w\", encoding='utf-8')\n",
    "    json.dump(score_dict, file_score_dict, ensure_ascii=False)\n",
    "    file_score_dict.close()\n",
    "    \n",
    "    file = open(\"heap.json\", \"w\", encoding='utf-8')\n",
    "    json.dump(heap, file, ensure_ascii=False)\n",
    "    file.close()"
   ]
  },
  {
   "cell_type": "code",
   "execution_count": 5,
   "metadata": {
    "scrolled": true
   },
   "outputs": [
    {
     "name": "stderr",
     "output_type": "stream",
     "text": [
      "100%|████████████████████████████████████████████████████████████████████████████████| 383/383 [09:53<00:00,  1.55s/it]\n"
     ]
    }
   ],
   "source": [
    "new_score(query)"
   ]
  },
  {
   "cell_type": "code",
   "execution_count": 6,
   "metadata": {},
   "outputs": [],
   "source": [
    "def top_k_documents(k):\n",
    "    \n",
    "    # opening the score_dict\n",
    "    score_dict_json = open('score_dict.json', 'r', encoding='utf-8')\n",
    "    score_dict = json.load(score_dict_json)\n",
    "    score_dict_json.close()\n",
    "    \n",
    "    # opening the heap list\n",
    "    heap_json = open('heap.json', 'r', encoding='utf-8')\n",
    "    heap = json.load(heap_json)\n",
    "    heap_json.close()\n",
    "    \n",
    "    # we are taking the first k similar documents to the query using heapq\n",
    "    heap_k = heapq.nlargest(k, heap)\n",
    "    final_doc = dict()\n",
    "    for i in range(len(heap_k)):\n",
    "        pos = list(score_dict.values()).index(heap_k[i])\n",
    "        final_doc[list(score_dict)[pos]] = score_dict[list(score_dict)[pos]]\n",
    "    return final_doc, score_dict"
   ]
  },
  {
   "cell_type": "code",
   "execution_count": 7,
   "metadata": {},
   "outputs": [],
   "source": [
    "# opening the anime_links\n",
    "list_url_txt = open('anime_links.txt', 'r', encoding='utf-8')\n",
    "list_url = list_url_txt.read().splitlines()\n",
    "list_url_txt.close()"
   ]
  },
  {
   "cell_type": "code",
   "execution_count": 8,
   "metadata": {},
   "outputs": [],
   "source": [
    "# creating a pandas dataframe for the final result\n",
    "doc_df = pd.DataFrame(columns=[\"animeTitle\", \"animeDescription\", \"Url\", \"Similarity\"])\n",
    "final_doc, score_dict = top_k_documents(k)\n",
    "for doc in final_doc:\n",
    "    i = int(''.join(re.findall(r'\\d+', doc)))\n",
    "    doc_page = (i-1)//50 + 1\n",
    "    path = f'pages_tsv/pages_tsv/page_{doc_page}/anime_{i}.tsv'\n",
    "    tsv_file = open(path, 'r', encoding='utf-8')\n",
    "    anime_tsv = csv.DictReader(tsv_file, delimiter='\\t')\n",
    "    anime = anime_tsv.__next__()\n",
    "    doc_df.loc[doc, [\"animeTitle\", \"animeDescription\", \"Url\", \"Similarity\"]] = [anime[\"animeTitle\"], anime[\"animeDescription\"], list_url[i-1], score_dict[doc]]"
   ]
  },
  {
   "cell_type": "code",
   "execution_count": 9,
   "metadata": {},
   "outputs": [
    {
     "data": {
      "text/html": [
       "<style  type=\"text/css\" >\n",
       "    #T_310524b4_44c7_11ec_8420_3c2c30bb8f96 th {\n",
       "          text-align: center;\n",
       "    }#T_310524b4_44c7_11ec_8420_3c2c30bb8f96row0_col0,#T_310524b4_44c7_11ec_8420_3c2c30bb8f96row0_col1,#T_310524b4_44c7_11ec_8420_3c2c30bb8f96row0_col2,#T_310524b4_44c7_11ec_8420_3c2c30bb8f96row0_col3,#T_310524b4_44c7_11ec_8420_3c2c30bb8f96row1_col0,#T_310524b4_44c7_11ec_8420_3c2c30bb8f96row1_col1,#T_310524b4_44c7_11ec_8420_3c2c30bb8f96row1_col2,#T_310524b4_44c7_11ec_8420_3c2c30bb8f96row1_col3,#T_310524b4_44c7_11ec_8420_3c2c30bb8f96row2_col0,#T_310524b4_44c7_11ec_8420_3c2c30bb8f96row2_col1,#T_310524b4_44c7_11ec_8420_3c2c30bb8f96row2_col2,#T_310524b4_44c7_11ec_8420_3c2c30bb8f96row2_col3,#T_310524b4_44c7_11ec_8420_3c2c30bb8f96row3_col0,#T_310524b4_44c7_11ec_8420_3c2c30bb8f96row3_col1,#T_310524b4_44c7_11ec_8420_3c2c30bb8f96row3_col2,#T_310524b4_44c7_11ec_8420_3c2c30bb8f96row3_col3,#T_310524b4_44c7_11ec_8420_3c2c30bb8f96row4_col0,#T_310524b4_44c7_11ec_8420_3c2c30bb8f96row4_col1,#T_310524b4_44c7_11ec_8420_3c2c30bb8f96row4_col2,#T_310524b4_44c7_11ec_8420_3c2c30bb8f96row4_col3{\n",
       "            text-align:  center;\n",
       "        }</style><table id=\"T_310524b4_44c7_11ec_8420_3c2c30bb8f96\" ><thead>    <tr>        <th class=\"blank level0\" ></th>        <th class=\"col_heading level0 col0\" >animeTitle</th>        <th class=\"col_heading level0 col1\" >animeDescription</th>        <th class=\"col_heading level0 col2\" >Url</th>        <th class=\"col_heading level0 col3\" >Similarity</th>    </tr></thead><tbody>\n",
       "                <tr>\n",
       "                        <th id=\"T_310524b4_44c7_11ec_8420_3c2c30bb8f96level0_row0\" class=\"row_heading level0 row0\" >document_9</th>\n",
       "                        <td id=\"T_310524b4_44c7_11ec_8420_3c2c30bb8f96row0_col0\" class=\"data row0 col0\" >Gintama': Enchousen</td>\n",
       "                        <td id=\"T_310524b4_44c7_11ec_8420_3c2c30bb8f96row0_col1\" class=\"data row0 col1\" >While Gintoki Sakata was away, the Yorozuya found themselves a new leader: Kintoki, Gintoki's golden-haired doppelganger. In order to regain his former position, Gintoki will need the help of those around him, a troubling feat when no one can remember him! Between Kintoki and Gintoki, who will claim the throne as the main character?\n",
       "\n",
       "\n",
       "In addition, Yorozuya make a trip back down to red-light district of Yoshiwara to aid an elderly courtesan in her search for her long-lost lover. Although the district is no longer in chains beneath the earth's surface, the trio soon learn of the tragic backstories of Yoshiwara's inhabitants that still haunt them. With flashback after flashback, this quest has Yorozuya witnessing everlasting love and protecting it as best they can with their hearts and souls.\n",
       "\n",
       "Gintama': Enchousen includes moments of action-packed intensity along with their usual lighthearted, slapstick humor for Gintoki and his friends.\n",
       "\n",
       "\n",
       "[Written by MAL Rewrite]</td>\n",
       "                        <td id=\"T_310524b4_44c7_11ec_8420_3c2c30bb8f96row0_col2\" class=\"data row0 col2\" ><a href=\"https://myanimelist.net/anime/15417/Gintama__Enchousen\">https://myanimelist.net/anime/15417/Gintama__Enchousen</a></td>\n",
       "                        <td id=\"T_310524b4_44c7_11ec_8420_3c2c30bb8f96row0_col3\" class=\"data row0 col3\" >0.979227</td>\n",
       "            </tr>\n",
       "            <tr>\n",
       "                        <th id=\"T_310524b4_44c7_11ec_8420_3c2c30bb8f96level0_row1\" class=\"row_heading level0 row1\" >document_10</th>\n",
       "                        <td id=\"T_310524b4_44c7_11ec_8420_3c2c30bb8f96row1_col0\" class=\"data row1 col0\" >Gintama: The Final</td>\n",
       "                        <td id=\"T_310524b4_44c7_11ec_8420_3c2c30bb8f96row1_col1\" class=\"data row1 col1\" >New Gintama movie.</td>\n",
       "                        <td id=\"T_310524b4_44c7_11ec_8420_3c2c30bb8f96row1_col2\" class=\"data row1 col2\" ><a href=\"https://myanimelist.net/anime/39486/Gintama__The_Final\">https://myanimelist.net/anime/39486/Gintama__The_Final</a></td>\n",
       "                        <td id=\"T_310524b4_44c7_11ec_8420_3c2c30bb8f96row1_col3\" class=\"data row1 col3\" >0.972222</td>\n",
       "            </tr>\n",
       "            <tr>\n",
       "                        <th id=\"T_310524b4_44c7_11ec_8420_3c2c30bb8f96level0_row2\" class=\"row_heading level0 row2\" >document_22</th>\n",
       "                        <td id=\"T_310524b4_44c7_11ec_8420_3c2c30bb8f96row2_col0\" class=\"data row2 col0\" >Gintama.: Shirogane no Tamashii-hen - Kouhan-sen</td>\n",
       "                        <td id=\"T_310524b4_44c7_11ec_8420_3c2c30bb8f96row2_col1\" class=\"data row2 col1\" >Second Season of the final arc of Gintama.</td>\n",
       "                        <td id=\"T_310524b4_44c7_11ec_8420_3c2c30bb8f96row2_col2\" class=\"data row2 col2\" ><a href=\"https://myanimelist.net/anime/37491/Gintama__Shirogane_no_Tamashii-hen_-_Kouhan-sen\">https://myanimelist.net/anime/37491/Gintama__Shirogane_no_Tamashii-hen_-_Kouhan-sen</a></td>\n",
       "                        <td id=\"T_310524b4_44c7_11ec_8420_3c2c30bb8f96row2_col3\" class=\"data row2 col3\" >0.848485</td>\n",
       "            </tr>\n",
       "            <tr>\n",
       "                        <th id=\"T_310524b4_44c7_11ec_8420_3c2c30bb8f96level0_row3\" class=\"row_heading level0 row3\" >document_15</th>\n",
       "                        <td id=\"T_310524b4_44c7_11ec_8420_3c2c30bb8f96row3_col0\" class=\"data row3 col0\" >Gintama</td>\n",
       "                        <td id=\"T_310524b4_44c7_11ec_8420_3c2c30bb8f96row3_col1\" class=\"data row3 col1\" >The Amanto, aliens from outer space, have invaded Earth and taken over feudal Japan. As a result, a prohibition on swords has been established, and the samurai of Japan are treated with disregard as a consequence.\n",
       "\n",
       "\n",
       "However one man, Gintoki Sakata, still possesses the heart of the samurai, although from his love of sweets and work as a yorozuya, one might not expect it. Accompanying him in his jack-of-all-trades line of work are Shinpachi Shimura, a boy with glasses and a strong heart, Kagura with her umbrella and seemingly bottomless stomach, as well as Sadaharu, their oversized pet dog. Of course, these odd jobs are not always simple, as they frequently have run-ins with the police, ragtag rebels, and assassins, oftentimes leading to humorous but unfortunate consequences.\n",
       "\n",
       "\n",
       "Who said life as an errand boy was easy?\n",
       "\n",
       "\n",
       "[Written by MAL Rewrite]</td>\n",
       "                        <td id=\"T_310524b4_44c7_11ec_8420_3c2c30bb8f96row3_col2\" class=\"data row3 col2\" ><a href=\"https://myanimelist.net/anime/918/Gintama\">https://myanimelist.net/anime/918/Gintama</a></td>\n",
       "                        <td id=\"T_310524b4_44c7_11ec_8420_3c2c30bb8f96row3_col3\" class=\"data row3 col3\" >0.833333</td>\n",
       "            </tr>\n",
       "            <tr>\n",
       "                        <th id=\"T_310524b4_44c7_11ec_8420_3c2c30bb8f96level0_row4\" class=\"row_heading level0 row4\" >document_6</th>\n",
       "                        <td id=\"T_310524b4_44c7_11ec_8420_3c2c30bb8f96row4_col0\" class=\"data row4 col0\" >Gintama'</td>\n",
       "                        <td id=\"T_310524b4_44c7_11ec_8420_3c2c30bb8f96row4_col1\" class=\"data row4 col1\" >After a one-year hiatus, Shinpachi Shimura returns to Edo, only to stumble upon a shocking surprise: Gintoki and Kagura, his fellow Yorozuya members, have become completely different characters! Fleeing from the Yorozuya headquarters in confusion, Shinpachi finds that all the denizens of Edo have undergone impossibly extreme changes, in both appearance and personality. Most unbelievably, his sister Otae has married the Shinsengumi chief and shameless stalker Isao Kondou and is pregnant with their first child.\n",
       "\n",
       "\n",
       "Bewildered, Shinpachi agrees to join the Shinsengumi at Otae and Kondou's request and finds even more startling transformations afoot both in and out of the ranks of the the organization. However, discovering that Vice Chief Toushirou Hijikata has remained unchanged, Shinpachi and his unlikely Shinsengumi ally set out to return the city of Edo to how they remember it.\n",
       "\n",
       "\n",
       "With even more dirty jokes, tongue-in-cheek parodies, and shameless references, Gintama' follows the Yorozuya team through more of their misadventures in the vibrant, alien-filled world of Edo.\n",
       "\n",
       "\n",
       "[Written by MAL Rewrite]\n",
       "</td>\n",
       "                        <td id=\"T_310524b4_44c7_11ec_8420_3c2c30bb8f96row4_col2\" class=\"data row4 col2\" ><a href=\"https://myanimelist.net/anime/9969/Gintama\">https://myanimelist.net/anime/9969/Gintama</a></td>\n",
       "                        <td id=\"T_310524b4_44c7_11ec_8420_3c2c30bb8f96row4_col3\" class=\"data row4 col3\" >0.801462</td>\n",
       "            </tr>\n",
       "    </tbody></table>"
      ],
      "text/plain": [
       "<pandas.io.formats.style.Styler at 0x25462b04970>"
      ]
     },
     "execution_count": 9,
     "metadata": {},
     "output_type": "execute_result"
    }
   ],
   "source": [
    "doc_dict = dict(selector=\"th\",\n",
    "             props=[('text-align', 'center')])\n",
    "def make_clickable(val):\n",
    "    return '<a href=\"{}\">{}</a>'.format(val, val)\n",
    "\n",
    "doc_df.style.set_properties(**{'text-align':'center'}).set_table_styles([doc_dict]).format({'Url': make_clickable})"
   ]
  },
  {
   "cell_type": "code",
   "execution_count": null,
   "metadata": {},
   "outputs": [],
   "source": []
  }
 ],
 "metadata": {
  "kernelspec": {
   "display_name": "Python 3",
   "language": "python",
   "name": "python3"
  },
  "language_info": {
   "codemirror_mode": {
    "name": "ipython",
    "version": 3
   },
   "file_extension": ".py",
   "mimetype": "text/x-python",
   "name": "python",
   "nbconvert_exporter": "python",
   "pygments_lexer": "ipython3",
   "version": "3.8.5"
  }
 },
 "nbformat": 4,
 "nbformat_minor": 4
}
