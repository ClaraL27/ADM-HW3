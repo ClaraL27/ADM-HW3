{
 "cells": [
  {
   "cell_type": "code",
   "execution_count": null,
   "metadata": {
    "collapsed": true
   },
   "outputs": [],
   "source": [
    "from bs4 import BeautifulSoup\n",
    "from tqdm import tqdm\n",
    "import requests\n",
    "from functions import *\n",
    "import os\n",
    "import re\n",
    "from datetime import datetime\n",
    "import csv"
   ]
  },
  {
   "cell_type": "markdown",
   "source": [
    "## 1. Data ollection"
   ],
   "metadata": {
    "collapsed": false
   }
  },
  {
   "cell_type": "markdown",
   "source": [
    "### 1.1 Get the list of animes"
   ],
   "metadata": {
    "collapsed": false
   }
  },
  {
   "cell_type": "markdown",
   "source": [
    "**THE CELL BELOW MUST BE RUNNED JUST ONE TIME, COMMENT IT**"
   ],
   "metadata": {
    "collapsed": false
   }
  },
  {
   "cell_type": "code",
   "execution_count": null,
   "outputs": [],
   "source": [
    "# get_link('https://myanimelist.net/topanime.php?limit=', 'anime_links.txt')"
   ],
   "metadata": {
    "collapsed": false,
    "pycharm": {
     "name": "#%%\n"
    }
   }
  },
  {
   "cell_type": "markdown",
   "source": [
    "### 1.2 Crawl animes"
   ],
   "metadata": {
    "collapsed": false
   }
  },
  {
   "cell_type": "code",
   "execution_count": null,
   "outputs": [],
   "source": [
    "# how many urls has the text file\n",
    "with open('anime_links.txt', 'r', encoding='utf-8') as file:\n",
    "    urls = list(file.read().splitlines())\n",
    "    len_list = len(urls)"
   ],
   "metadata": {
    "collapsed": false,
    "pycharm": {
     "name": "#%%\n"
    }
   }
  },
  {
   "cell_type": "markdown",
   "source": [
    "**THE CELL BELOW MUST BE RUNNED JUST ONE TIME, COMMENT IT**"
   ],
   "metadata": {
    "collapsed": false
   }
  },
  {
   "cell_type": "code",
   "execution_count": null,
   "outputs": [],
   "source": [
    "# os.mkdir('pages')\n",
    "# for i in range(len_list//50 + 1):\n",
    "#     os.mkdir(f'pages/page_{i + 1}')"
   ],
   "metadata": {
    "collapsed": false,
    "pycharm": {
     "name": "#%%\n"
    }
   }
  },
  {
   "cell_type": "markdown",
   "source": [
    "**THE CELL BELOW MUST BE RUNNED JUST ONE TIME, COMMENT IT**"
   ],
   "metadata": {
    "collapsed": false
   }
  },
  {
   "cell_type": "code",
   "execution_count": null,
   "outputs": [],
   "source": [
    "# change the start_ind value if the process stops\n",
    "# and the crawling will continue from that index\n",
    "# change stop_ind value to recover only the pages\n",
    "# from start_ind to stop_ind\n",
    "\n",
    "# start_ind = 0\n",
    "# stop_ind = len_list\n",
    "# crawl_html(start_ind)"
   ],
   "metadata": {
    "collapsed": false,
    "pycharm": {
     "name": "#%%\n"
    }
   }
  },
  {
   "cell_type": "markdown",
   "source": [
    "### 1.3 Parse downloaded pages"
   ],
   "metadata": {
    "collapsed": false
   }
  },
  {
   "cell_type": "markdown",
   "source": [
    "`article_7242.html` and `article_15009.html` are missing, because the anime url doesn't exist:\n",
    "https://myanimelist.net/anime/2644/Doraemon__Treasure_of_the_Shinugumi_Mountain\n",
    "https://myanimelist.net/anime/43247/Bing_Di_Lian"
   ],
   "metadata": {
    "collapsed": false
   }
  },
  {
   "cell_type": "markdown",
   "source": [
    "**THE CELL BELOW MUST BE RUNNED JUST ONE TIME, COMMENT IT**"
   ],
   "metadata": {
    "collapsed": false
   }
  },
  {
   "cell_type": "code",
   "execution_count": null,
   "outputs": [],
   "source": [
    "# os.mkdir('pages_tsv')\n",
    "# for i in range(len_list//50 + 1):\n",
    "#     os.mkdir(f'pages_tsv/page_{i + 1}')"
   ],
   "metadata": {
    "collapsed": false,
    "pycharm": {
     "name": "#%%\n"
    }
   }
  },
  {
   "cell_type": "code",
   "execution_count": null,
   "outputs": [],
   "source": [
    "for i in tqdm(range(len_list)):\n",
    "    # the files with the indexes below do not exist\n",
    "    if i == 7241 or i == 15008:\n",
    "        continue\n",
    "    page = i//50 + 1\n",
    "    with open(f'pages/page_{page}/article_{i+1}.html', 'r', encoding='utf-8') as file:\n",
    "        soup = BeautifulSoup(file, 'html.parser')\n",
    "        with open(f'pages_tsv/page_{page}/anime_{i+1}.tsv', 'w', encoding='utf-8') as tsv_file:\n",
    "            tsv = csv.writer(tsv_file, delimiter='\\t')\n",
    "            tsv.writerow(['animeTitle', 'animeType', 'animeNumEpisode', 'releaseDate', 'endDate', 'animeNumMembers', 'animeScore', 'animeUsers', 'animeRank', 'animePopularity', 'animeDescription', 'animeRelated', 'animeCharacters', 'animeVoices', 'animeStaff'])\n",
    "            tsv.writerow([get_title(soup), get_type(soup), get_num_ep(soup), get_dates(soup)[0], get_dates(soup)[1], get_memb(soup), get_score(soup), get_users(soup), get_rank(soup), get_pop(soup), get_descr(soup), get_rel_an(soup), get_char(soup), get_voices(soup), get_staff(soup)])"
   ],
   "metadata": {
    "collapsed": false,
    "pycharm": {
     "name": "#%%\n"
    }
   }
  }
 ],
 "metadata": {
  "kernelspec": {
   "display_name": "Python 3",
   "language": "python",
   "name": "python3"
  },
  "language_info": {
   "codemirror_mode": {
    "name": "ipython",
    "version": 2
   },
   "file_extension": ".py",
   "mimetype": "text/x-python",
   "name": "python",
   "nbconvert_exporter": "python",
   "pygments_lexer": "ipython2",
   "version": "2.7.6"
  }
 },
 "nbformat": 4,
 "nbformat_minor": 0
}