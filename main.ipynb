{
 "cells": [
  {
   "cell_type": "code",
   "execution_count": 1,
   "metadata": {
    "collapsed": true
   },
   "outputs": [],
   "source": [
    "from bs4 import BeautifulSoup\n",
    "from tqdm import tqdm\n",
    "import requests\n",
    "from functions import *\n",
    "import os\n",
    "import re\n",
    "from datetime import datetime\n",
    "import csv\n",
    "import pandas as pd\n",
    "import json\n",
    "pd.set_option(\"display.max_rows\", None, \"display.max_columns\", None, \"max_colwidth\", None)"
   ]
  },
  {
   "cell_type": "markdown",
   "source": [
    "## 1. Data ollection"
   ],
   "metadata": {
    "collapsed": false
   }
  },
  {
   "cell_type": "markdown",
   "source": [
    "### 1.1 Get the list of animes"
   ],
   "metadata": {
    "collapsed": false
   }
  },
  {
   "cell_type": "markdown",
   "source": [
    "**THE CELL BELOW MUST BE RUNNED JUST ONE TIME, COMMENT IT**"
   ],
   "metadata": {
    "collapsed": false
   }
  },
  {
   "cell_type": "code",
   "execution_count": 2,
   "outputs": [],
   "source": [
    "# get_link('https://myanimelist.net/topanime.php?limit=', 'anime_links.txt')"
   ],
   "metadata": {
    "collapsed": false,
    "pycharm": {
     "name": "#%%\n"
    }
   }
  },
  {
   "cell_type": "markdown",
   "source": [
    "### 1.2 Crawl animes"
   ],
   "metadata": {
    "collapsed": false
   }
  },
  {
   "cell_type": "code",
   "execution_count": 3,
   "outputs": [],
   "source": [
    "# how many urls has the text file\n",
    "with open('anime_links.txt', 'r', encoding='utf-8') as file:\n",
    "    urls = list(file.read().splitlines())\n",
    "    len_list = len(urls)"
   ],
   "metadata": {
    "collapsed": false,
    "pycharm": {
     "name": "#%%\n"
    }
   }
  },
  {
   "cell_type": "markdown",
   "source": [
    "**THE CELL BELOW MUST BE RUNNED JUST ONE TIME, COMMENT IT**"
   ],
   "metadata": {
    "collapsed": false
   }
  },
  {
   "cell_type": "code",
   "execution_count": 4,
   "outputs": [],
   "source": [
    "# os.mkdir('pages')\n",
    "# for i in range(len_list//50 + 1):\n",
    "#     os.mkdir(f'pages/page_{i + 1}')"
   ],
   "metadata": {
    "collapsed": false,
    "pycharm": {
     "name": "#%%\n"
    }
   }
  },
  {
   "cell_type": "markdown",
   "source": [
    "**THE CELL BELOW MUST BE RUNNED JUST ONE TIME, COMMENT IT**"
   ],
   "metadata": {
    "collapsed": false
   }
  },
  {
   "cell_type": "code",
   "execution_count": 5,
   "outputs": [],
   "source": [
    "# change the start_ind value if the process stops\n",
    "# and the crawling will continue from that index\n",
    "# change stop_ind value to recover only the pages\n",
    "# from start_ind to stop_ind\n",
    "\n",
    "# start_ind = 0\n",
    "# stop_ind = len_list\n",
    "# crawl_html(start_ind)"
   ],
   "metadata": {
    "collapsed": false,
    "pycharm": {
     "name": "#%%\n"
    }
   }
  },
  {
   "cell_type": "markdown",
   "source": [
    "### 1.3 Parse downloaded pages"
   ],
   "metadata": {
    "collapsed": false
   }
  },
  {
   "cell_type": "markdown",
   "source": [
    "`article_7242.html` and `article_15009.html` are missing, because the anime url doesn't exist:<br>\n",
    "https://myanimelist.net/anime/2644/Doraemon__Treasure_of_the_Shinugumi_Mountain<br>\n",
    "https://myanimelist.net/anime/43247/Bing_Di_Lian"
   ],
   "metadata": {
    "collapsed": false
   }
  },
  {
   "cell_type": "markdown",
   "source": [
    "**THE CELL BELOW MUST BE RUNNED JUST ONE TIME, COMMENT IT**"
   ],
   "metadata": {
    "collapsed": false
   }
  },
  {
   "cell_type": "code",
   "execution_count": 6,
   "outputs": [],
   "source": [
    "# os.mkdir('pages_tsv')\n",
    "# for i in range(len_list//50 + 1):\n",
    "#     os.mkdir(f'pages_tsv/page_{i + 1}')"
   ],
   "metadata": {
    "collapsed": false,
    "pycharm": {
     "name": "#%%\n"
    }
   }
  },
  {
   "cell_type": "code",
   "execution_count": 7,
   "outputs": [
    {
     "data": {
      "text/plain": "\"\\nfor i in tqdm(range(len_list)):\\n    # the files with the indexes below do not exist\\n    if i == 7241 or i == 15008:\\n        continue\\n    page = i//50 + 1\\n    with open(f'pages/page_{page}/article_{i+1}.html', 'r', encoding='utf-8') as file:\\n        soup = BeautifulSoup(file, 'html.parser')\\n        with open(f'pages_tsv/page_{page}/anime_{i+1}.tsv', 'w', encoding='utf-8') as tsv_file:\\n            tsv = csv.writer(tsv_file, delimiter='\\t')\\n            tsv.writerow(['animeTitle', 'animeType', 'animeNumEpisode', 'releaseDate', 'endDate', 'animeNumMembers', 'animeScore', 'animeUsers', 'animeRank', 'animePopularity', 'animeDescription', 'animeRelated', 'animeCharacters', 'animeVoices', 'animeStaff'])\\n            tsv.writerow([get_title(soup), get_type(soup), get_num_ep(soup), get_dates(soup)[0], get_dates(soup)[1], get_memb(soup), get_score(soup), get_users(soup), get_rank(soup), get_pop(soup), get_descr(soup), get_rel_an(soup), get_char(soup), get_voices(soup), get_staff(soup)])\\n\""
     },
     "execution_count": 7,
     "metadata": {},
     "output_type": "execute_result"
    }
   ],
   "source": [
    "'''\n",
    "for i in tqdm(range(len_list)):\n",
    "    # the files with the indexes below do not exist\n",
    "    if i == 7241 or i == 15008:\n",
    "        continue\n",
    "    page = i//50 + 1\n",
    "    with open(f'pages/page_{page}/article_{i+1}.html', 'r', encoding='utf-8') as file:\n",
    "        soup = BeautifulSoup(file, 'html.parser')\n",
    "        with open(f'pages_tsv/page_{page}/anime_{i+1}.tsv', 'w', encoding='utf-8') as tsv_file:\n",
    "            tsv = csv.writer(tsv_file, delimiter='\\t')\n",
    "            tsv.writerow(['animeTitle', 'animeType', 'animeNumEpisode', 'releaseDate', 'endDate', 'animeNumMembers', 'animeScore', 'animeUsers', 'animeRank', 'animePopularity', 'animeDescription', 'animeRelated', 'animeCharacters', 'animeVoices', 'animeStaff'])\n",
    "            tsv.writerow([get_title(soup), get_type(soup), get_num_ep(soup), get_dates(soup)[0], get_dates(soup)[1], get_memb(soup), get_score(soup), get_users(soup), get_rank(soup), get_pop(soup), get_descr(soup), get_rel_an(soup), get_char(soup), get_voices(soup), get_staff(soup)])\n",
    "'''"
   ],
   "metadata": {
    "collapsed": false,
    "pycharm": {
     "name": "#%%\n"
    }
   }
  },
  {
   "cell_type": "markdown",
   "source": [
    "## 2. Search Engine"
   ],
   "metadata": {
    "collapsed": false
   }
  },
  {
   "cell_type": "markdown",
   "source": [
    "### 2.1. Conjunctive query"
   ],
   "metadata": {
    "collapsed": false
   }
  },
  {
   "cell_type": "code",
   "execution_count": 8,
   "outputs": [
    {
     "name": "stderr",
     "output_type": "stream",
     "text": [
      "[nltk_data] Downloading package punkt to\n",
      "[nltk_data]     C:\\Users\\Clara\\AppData\\Roaming\\nltk_data...\n",
      "[nltk_data]   Package punkt is already up-to-date!\n",
      "[nltk_data] Downloading package stopwords to\n",
      "[nltk_data]     C:\\Users\\Clara\\AppData\\Roaming\\nltk_data...\n",
      "[nltk_data]   Package stopwords is already up-to-date!\n",
      "100%|██████████| 383/383 [00:18<00:00, 20.75it/s]\n"
     ]
    }
   ],
   "source": [
    "# download all the nltk files needed\n",
    "download()\n",
    "\n",
    "# creates the vocabulary of every word in the Synopsis of every anime\n",
    "# and stores it in a json file\n",
    "create_vocab()"
   ],
   "metadata": {
    "collapsed": false,
    "pycharm": {
     "name": "#%%\n"
    }
   }
  },
  {
   "cell_type": "markdown",
   "source": [
    "#### 2.1.1) Create your index!"
   ],
   "metadata": {
    "collapsed": false,
    "pycharm": {
     "name": "#%% md\n"
    }
   }
  },
  {
   "cell_type": "code",
   "execution_count": 9,
   "outputs": [
    {
     "name": "stderr",
     "output_type": "stream",
     "text": [
      "100%|██████████| 383/383 [00:20<00:00, 18.78it/s]\n"
     ]
    }
   ],
   "source": [
    "# creates the inverted index dictionary and stores it in a json file\n",
    "invertedIndex()"
   ],
   "metadata": {
    "collapsed": false,
    "pycharm": {
     "name": "#%%\n"
    }
   }
  },
  {
   "cell_type": "markdown",
   "source": [
    "#### 2.1.2) Execute the query"
   ],
   "metadata": {
    "collapsed": false
   }
  },
  {
   "cell_type": "code",
   "execution_count": 10,
   "outputs": [],
   "source": [
    "# opening the vocabulary\n",
    "voc_json = open('vocabulary.json', 'r', encoding='utf-8')\n",
    "vocabulary = json.load(voc_json)\n",
    "voc_json.close()\n",
    "\n",
    "# opening the inverted_index\n",
    "inv_ind_json = open('inverted_index.json', 'r', encoding='utf-8')\n",
    "inverted_index = json.load(inv_ind_json)\n",
    "inv_ind_json.close()\n",
    "\n",
    "# opening the anime_links\n",
    "list_url_txt = open('anime_links.txt', 'r', encoding='utf-8')\n",
    "list_url = list_url_txt.read().splitlines()\n",
    "list_url_txt.close()"
   ],
   "metadata": {
    "collapsed": false,
    "pycharm": {
     "name": "#%%\n"
    }
   }
  },
  {
   "cell_type": "code",
   "execution_count": 11,
   "outputs": [
    {
     "name": "stdout",
     "output_type": "stream",
     "text": [
      "saiyan race\n"
     ]
    }
   ],
   "source": [
    "# taking in input the query\n",
    "query = input()\n",
    "assert len(query) > 0, \"The query is empty!!\"\n",
    "# stemming the query\n",
    "query_stemmed = text_mining(query)\n",
    "print(query)"
   ],
   "metadata": {
    "collapsed": false,
    "pycharm": {
     "name": "#%%\n"
    }
   }
  },
  {
   "cell_type": "code",
   "execution_count": 12,
   "outputs": [],
   "source": [
    "# creating index query dictionary\n",
    "query_dict = dict()\n",
    "for word in query_stemmed:\n",
    "    if word in vocabulary.keys():\n",
    "        query_dict[vocabulary[word]] = inverted_index[str(vocabulary[word])]"
   ],
   "metadata": {
    "collapsed": false,
    "pycharm": {
     "name": "#%%\n"
    }
   }
  },
  {
   "cell_type": "code",
   "execution_count": 13,
   "outputs": [
    {
     "name": "stdout",
     "output_type": "stream",
     "text": [
      "List of documents found with the query = {'document_401', 'document_1035', 'document_365', 'document_1469'}\n"
     ]
    }
   ],
   "source": [
    "# saving the inverted_index of the query\n",
    "query_index = list(query_dict.keys())\n",
    "\n",
    "\n",
    "# searching for the documents requested from the query\n",
    "doc_list = set(query_dict[query_index[0]])\n",
    "for query_word in query_index[1:]:\n",
    "    doc_list.intersection_update(query_dict[query_word])\n",
    "\n",
    "print(\"List of documents found with the query =\", doc_list)\n",
    "\n",
    "# creating a pandas dataframe for the final result\n",
    "doc_df = pd.DataFrame(columns=[\"animeTitle\", \"animeDescription\", \"Url\"])\n",
    "for doc in doc_list:\n",
    "    i = int(''.join(re.findall(r'\\d+', doc)))\n",
    "    doc_page = (i-1)//50 + 1\n",
    "    path = f'pages_tsv/page_{doc_page}/anime_{i}.tsv'\n",
    "    tsv_file = open(path, 'r', encoding='utf-8')\n",
    "    anime_tsv = csv.DictReader(tsv_file, delimiter='\\t')\n",
    "    anime = anime_tsv.__next__()\n",
    "    doc_df.loc[doc, [\"animeTitle\", \"animeDescription\", \"Url\"]] = [anime[\"animeTitle\"], anime[\"animeDescription\"], list_url[i-1]]"
   ],
   "metadata": {
    "collapsed": false,
    "pycharm": {
     "name": "#%%\n"
    }
   }
  },
  {
   "cell_type": "code",
   "execution_count": 14,
   "outputs": [
    {
     "data": {
      "text/plain": "<pandas.io.formats.style.Styler at 0x28ca99b1130>",
      "text/html": "<style type=\"text/css\">\n#T_88310_ th {\n  text-align: center;\n}\n#T_88310_row0_col0, #T_88310_row0_col1, #T_88310_row0_col2, #T_88310_row1_col0, #T_88310_row1_col1, #T_88310_row1_col2, #T_88310_row2_col0, #T_88310_row2_col1, #T_88310_row2_col2, #T_88310_row3_col0, #T_88310_row3_col1, #T_88310_row3_col2 {\n  text-align: center;\n}\n</style>\n<table id=\"T_88310_\">\n  <thead>\n    <tr>\n      <th class=\"blank level0\" >&nbsp;</th>\n      <th class=\"col_heading level0 col0\" >animeTitle</th>\n      <th class=\"col_heading level0 col1\" >animeDescription</th>\n      <th class=\"col_heading level0 col2\" >Url</th>\n    </tr>\n  </thead>\n  <tbody>\n    <tr>\n      <th id=\"T_88310_level0_row0\" class=\"row_heading level0 row0\" >document_401</th>\n      <td id=\"T_88310_row0_col0\" class=\"data row0 col0\" >Dragon Ball Super: Broly</td>\n      <td id=\"T_88310_row0_col1\" class=\"data row0 col1\" >Forty-one years ago on Planet Vegeta, home of the infamous Saiyan warrior race, King Vegeta noticed a baby named Broly whose latent power exceeded that of his own son. Believing that Broly's power would one day surpass that of his child, Vegeta, the king sends Broly to the desolate planet Vampa. Broly's father Paragus follows after him, intent on rescuing his son. However, his ship gets damaged, causing the two to spend years trapped on the barren world, unaware of the salvation that would one day come from an unlikely ally.\n\n\nYears later on Earth, Gokuu Son and Prince Vegeta—believed to be the last survivors of the Saiyan race—are busy training on a remote island. But their sparring is interrupted when the appearance of their old enemy Frieza drives them to search for the last of the wish-granting Dragon Balls on a frozen continent. Once there, Frieza shows off his new allies: Paragus and the now extremely powerful Broly. A legendary battle that shakes the foundation of the world ensues as Gokuu and Vegeta face off against Broly, a warrior without equal whose rage is just waiting to be unleashed.\n\n\n[Written by MAL Rewrite]</td>\n      <td id=\"T_88310_row0_col2\" class=\"data row0 col2\" ><a href=\"https://myanimelist.net/anime/36946/Dragon_Ball_Super__Broly\">https://myanimelist.net/anime/36946/Dragon_Ball_Super__Broly</a></td>\n    </tr>\n    <tr>\n      <th id=\"T_88310_level0_row1\" class=\"row_heading level0 row1\" >document_1035</th>\n      <td id=\"T_88310_row1_col0\" class=\"data row1 col0\" >Dragon Ball Kai</td>\n      <td id=\"T_88310_row1_col1\" class=\"data row1 col1\" >Five years after the events of Dragon Ball, martial arts expert Gokuu is now a grown man married to his wife Chi-Chi, with a four-year old son named Gohan. While attending a reunion on Turtle Island with his old friends Master Roshi, Krillin, Bulma and others, the festivities are interrupted when a humanoid alien named Raditz not only reveals the truth behind Gokuu's past, but kidnaps Gohan as well.\n\n\nWith Raditz displaying power beyond anything Gokuu has seen before, he is forced to team up with his old nemesis, Piccolo, in order to rescue his son. But when Gokuu and Piccolo reveal the secret of the seven mystical wish-granting Dragon Balls to Raditz, he informs the duo that there is more of his race, the Saiyans, and they won’t pass up an opportunity to seize the power of the Dragon Balls for themselves.\n\n\nThese events begin the saga of Dragon Ball Kai, a story that finds Gokuu and his friends and family constantly defending the galaxy from increasingly more powerful threats. Bizarre, comical, heartwarming and threatening characters come together in a series of battles that push the powers and abilities of Gokuu and his friends beyond anything they have ever experienced.</td>\n      <td id=\"T_88310_row1_col2\" class=\"data row1 col2\" ><a href=\"https://myanimelist.net/anime/6033/Dragon_Ball_Kai\">https://myanimelist.net/anime/6033/Dragon_Ball_Kai</a></td>\n    </tr>\n    <tr>\n      <th id=\"T_88310_level0_row2\" class=\"row_heading level0 row2\" >document_365</th>\n      <td id=\"T_88310_row2_col0\" class=\"data row2 col0\" >Dragon Ball Z</td>\n      <td id=\"T_88310_row2_col1\" class=\"data row2 col1\" >Five years after winning the World Martial Arts tournament, Gokuu is now living a peaceful life with his wife and son. This changes, however, with the arrival of a mysterious enemy named Raditz who presents himself as Gokuu's long-lost brother. He reveals that Gokuu is a warrior from the once powerful but now virtually extinct Saiyan race, whose homeworld was completely annihilated. When he was sent to Earth as a baby, Gokuu's sole purpose was to conquer and destroy the planet; but after suffering amnesia from a head injury, his violent and savage nature changed, and instead was raised as a kind and well-mannered boy, now fighting to protect others.\n\n\nWith his failed attempt at forcibly recruiting Gokuu as an ally, Raditz warns Gokuu's friends of a new threat that's rapidly approaching Earth—one that could plunge Earth into an intergalactic conflict and cause the heavens themselves to shake. A war will be fought over the seven mystical dragon balls, and only the strongest will survive in Dragon Ball Z.\n\n\n[Written by MAL Rewrite]</td>\n      <td id=\"T_88310_row2_col2\" class=\"data row2 col2\" ><a href=\"https://myanimelist.net/anime/813/Dragon_Ball_Z\">https://myanimelist.net/anime/813/Dragon_Ball_Z</a></td>\n    </tr>\n    <tr>\n      <th id=\"T_88310_level0_row3\" class=\"row_heading level0 row3\" >document_1469</th>\n      <td id=\"T_88310_row3_col0\" class=\"data row3 col0\" >Dragon Ball Z Special 1: Tatta Hitori no Saishuu Kessen</td>\n      <td id=\"T_88310_row3_col1\" class=\"data row3 col1\" >Bardock, Son Goku's father, is a low-ranking Saiyan soldier who was given the power to see into the future by the last remaining alien on a planet he just destroyed. He witnesses the destruction of his race and must now do his best to stop Frieza's impending massacre.\n\n\n(Source: ANN)</td>\n      <td id=\"T_88310_row3_col2\" class=\"data row3 col2\" ><a href=\"https://myanimelist.net/anime/986/Dragon_Ball_Z_Special_1__Tatta_Hitori_no_Saishuu_Kessen\">https://myanimelist.net/anime/986/Dragon_Ball_Z_Special_1__Tatta_Hitori_no_Saishuu_Kessen</a></td>\n    </tr>\n  </tbody>\n</table>\n"
     },
     "execution_count": 14,
     "metadata": {},
     "output_type": "execute_result"
    }
   ],
   "source": [
    "doc_d = dict(selector=\"th\",\n",
    "             props=[('text-align', 'center')])\n",
    "def make_clickable(val):\n",
    "    return '<a href=\"{}\">{}</a>'.format(val, val)\n",
    "\n",
    "doc_df.style.set_properties(**{'text-align':'center'}).set_table_styles([doc_d]).format({'Url': make_clickable})"
   ],
   "metadata": {
    "collapsed": false,
    "pycharm": {
     "name": "#%%\n"
    }
   }
  }
 ],
 "metadata": {
  "kernelspec": {
   "display_name": "Python 3",
   "language": "python",
   "name": "python3"
  },
  "language_info": {
   "codemirror_mode": {
    "name": "ipython",
    "version": 2
   },
   "file_extension": ".py",
   "mimetype": "text/x-python",
   "name": "python",
   "nbconvert_exporter": "python",
   "pygments_lexer": "ipython2",
   "version": "2.7.6"
  }
 },
 "nbformat": 4,
 "nbformat_minor": 0
}